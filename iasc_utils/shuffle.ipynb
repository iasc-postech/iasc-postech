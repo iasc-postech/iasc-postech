{
 "cells": [
  {
   "cell_type": "code",
   "execution_count": 5,
   "metadata": {},
   "outputs": [
    {
     "name": "stderr",
     "output_type": "stream",
     "text": [
      "100%|██████████| 10000/10000 [00:01<00:00, 6533.44it/s]\n",
      "100%|██████████| 44058/44058 [00:35<00:00, 1244.42it/s]\n"
     ]
    }
   ],
   "source": [
    "import os\n",
    "import random\n",
    "from tqdm import tqdm\n",
    "import json\n",
    "\n",
    "# shuffle train and valid and re-divide them to include 10,000 images for valid \n",
    "root_folder_name = \"modified_coco_0.1_0.6\"\n",
    "\n",
    "train_data_dir = f\"{root_folder_name}/train2017\"\n",
    "valid_data_dir = f\"{root_folder_name}/val2017\"\n",
    "\n",
    "with open(os.path.join(train_data_dir, \"modified_data.json\"), \"r\") as f:\n",
    "    train_json = json.load(f)\n",
    "with open(os.path.join(valid_data_dir, \"modified_data.json\"), \"r\") as f:\n",
    "    valid_json = json.load(f)\n",
    "\n",
    "full_file_list = train_json + valid_json\n",
    "new_valid_json = random.sample(full_file_list, 10000)\n",
    "new_train_json = [i for i in full_file_list if i not in new_valid_json]\n",
    "\n",
    "\n",
    "folders = [\"image512\", \"input\", \"mask512\", \"predict_panoptic_seg\", \"score_obj_quries_bboxes\"]\n",
    "\n",
    "for i in tqdm(new_valid_json):\n",
    "    if i in valid_json:\n",
    "        continue\n",
    "    else:\n",
    "        for folder in folders:\n",
    "            extension = \"npz\" if folder in [\"predict_panoptic_seg\", \"score_obj_quries_bboxes\"] else \"png\"\n",
    "            os.rename(os.path.join(train_data_dir, folder, i[\"score_obj_quries_bboxes\"] + \".\" + extension), os.path.join(valid_data_dir, folder, i[\"score_obj_quries_bboxes\"] + \".\" + extension))\n",
    "\n",
    "for i in tqdm(new_train_json):\n",
    "    if i in train_json:\n",
    "        continue\n",
    "    else:\n",
    "        for folder in folders:\n",
    "            extension = \"npz\" if folder in [\"predict_panoptic_seg\", \"score_obj_quries_bboxes\"] else \"png\"\n",
    "            os.rename(os.path.join(valid_data_dir, folder, i[\"score_obj_quries_bboxes\"] + \".\" + extension), os.path.join(train_data_dir, folder, i[\"score_obj_quries_bboxes\"] + \".\" + extension))\n",
    "\n",
    "with open(os.path.join(valid_data_dir, \"modified_data.json\"), \"w\") as f:\n",
    "    json.dump(new_valid_json, f)\n",
    "\n",
    "\n",
    "with open(os.path.join(train_data_dir, \"modified_data.json\"), \"w\") as f:\n",
    "    json.dump(new_train_json, f)\n",
    "\n",
    "# to_move = random.sample(train_json, 10000 - len(valid_json))\n",
    "# folders = [\"image512\", \"input\", \"mask512\", \"predict_panoptic_seg\", \"score_obj_quries_bboxes\"]\n",
    "\n",
    "# for i in tqdm(to_move):\n",
    "#     train_json.remove(i)\n",
    "#     valid_json.append(i)\n",
    "#     for folder in folders:\n",
    "#         extension = \"npz\" if folder in [\"predict_panoptic_seg\", \"score_obj_quries_bboxes\"] else \"png\"\n",
    "#         os.rename(os.path.join(train_data_dir, folder, i[\"score_obj_quries_bboxes\"] + \".\" + extension), os.path.join(valid_data_dir, folder, i[\"score_obj_quries_bboxes\"] + \".\" + extension))\n",
    "\n",
    "# with open(os.path.join(train_data_dir, \"modified_data.json\"), \"w\") as f:\n",
    "#     json.dump(train_json, f)\n",
    "# with open(os.path.join(valid_data_dir, \"modified_data.json\"), \"w\") as f:\n",
    "#     json.dump(valid_json, f)\n"
   ]
  }
 ],
 "metadata": {
  "kernelspec": {
   "display_name": "iasc",
   "language": "python",
   "name": "python3"
  },
  "language_info": {
   "codemirror_mode": {
    "name": "ipython",
    "version": 3
   },
   "file_extension": ".py",
   "mimetype": "text/x-python",
   "name": "python",
   "nbconvert_exporter": "python",
   "pygments_lexer": "ipython3",
   "version": "3.10.4"
  },
  "orig_nbformat": 4
 },
 "nbformat": 4,
 "nbformat_minor": 2
}
