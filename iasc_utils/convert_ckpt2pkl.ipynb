{
 "cells": [
  {
   "cell_type": "markdown",
   "metadata": {},
   "source": [
    "## MIT"
   ]
  },
  {
   "cell_type": "code",
   "execution_count": 16,
   "metadata": {},
   "outputs": [],
   "source": [
    "import yaml\n",
    "import os\n",
    "import sys\n",
    "import pickle\n",
    "import torch\n",
    "\n",
    "sys.path.append(\"/root/code/iasc_imcomplete/1_MissingInstanceInfer\")\n",
    "from model.mit.transformer import ObjInferLayer_Type_1, ObjInferLayer_Type_2, ObjInferTransformer_type_1, ObjInferTransformer_type_2\n",
    "\n",
    "config_path = \"/root/code/iasc_imcomplete/1_MissingInstanceInfer/configs/type_1_abs4c_no_classifier_deep.yaml\"\n",
    "ckpt_path = \"/root/code/iasc_imcomplete/checkpoints/train_mit_type_1_abs4c_no_classifier_lr_1.0e-4_deep_scheduler_0.06_0.7/epoch=299-Cls_Acc=63.405.ckpt\"\n",
    "with open(config_path, \"r\") as fp: \n",
    "    config_file = yaml.load(fp, Loader=yaml.FullLoader)\n",
    "\n"
   ]
  },
  {
   "cell_type": "code",
   "execution_count": 17,
   "metadata": {},
   "outputs": [],
   "source": [
    "tf_config = config_file['mit_config']\n",
    "obj_inf_type = tf_config['obj_inf_model']\n",
    "no_pe = tf_config['obj_inf_no_pe']\n",
    "pe_type = tf_config['obj_inf_pe_type']    \n",
    "\n",
    "if obj_inf_type == 'type1':\n",
    "        enc_layer = ObjInferLayer_Type_1(d_model=tf_config['hidden_dim'], \\\n",
    "            nhead=tf_config['nhead'], \\\n",
    "            dim_feedforward=tf_config['dim_feedforward'], \\\n",
    "            dropout=tf_config['dropout'], \\\n",
    "            activation=tf_config['tr_enc_activation'], \\\n",
    "            normalize_before=tf_config['pre_norm']    \n",
    "            )\n",
    "        transformer = ObjInferTransformer_type_1(encoder_layer=enc_layer, num_layers=tf_config['enc_layers'], no_pe=no_pe, pe_type=pe_type, \\\n",
    "            no_classifier=tf_config['no_classifier'], dim=tf_config['hidden_dim'], class_numb=config_file['label_nc'], contain_is_thing=tf_config['contain_is_thing'])\n",
    "\n",
    "elif obj_inf_type == 'type2':\n",
    "    enc_layer = ObjInferLayer_Type_2(d_model=tf_config['hidden_dim'], \\\n",
    "        nhead=tf_config['nhead'], \\\n",
    "        dim_feedforward=tf_config['dim_feedforward'], \\\n",
    "        dropout=tf_config['dropout'], \\\n",
    "        activation=tf_config['tr_enc_activation'], \\\n",
    "        normalize_before=tf_config['pre_norm']    \n",
    "        )\n",
    "    transformer = ObjInferTransformer_type_2(encoder_layer=enc_layer, num_layers=tf_config['enc_layers'], no_pe=no_pe, pe_type=pe_type, \\\n",
    "        no_classifier=tf_config['no_classifier'], dim=tf_config['hidden_dim'], class_numb=config_file['label_nc'], contain_is_thing=tf_config['contain_is_thing'])\n",
    "        "
   ]
  },
  {
   "cell_type": "code",
   "execution_count": 18,
   "metadata": {},
   "outputs": [],
   "source": [
    "# Load checkpoint\n",
    "checkpoint = torch.load(ckpt_path)\n",
    "new_state_dict = {}\n",
    "\n",
    "for key in checkpoint['state_dict'].keys():\n",
    "    if 'transformer' in key:\n",
    "        new_state_dict[key.replace('transformer.', '')] = checkpoint['state_dict'][key]\n",
    "\n",
    "transformer.load_state_dict(new_state_dict)\n",
    "with open('new_mit.pkl', 'wb') as file:\n",
    "    pickle.dump(transformer, file)\n"
   ]
  },
  {
   "cell_type": "markdown",
   "metadata": {},
   "source": [
    "## MG"
   ]
  },
  {
   "cell_type": "code",
   "execution_count": 25,
   "metadata": {},
   "outputs": [
    {
     "name": "stdout",
     "output_type": "stream",
     "text": [
      "The Zen of Python, by Tim Peters\n",
      "\n",
      "Beautiful is better than ugly.\n",
      "Explicit is better than implicit.\n",
      "Simple is better than complex.\n",
      "Complex is better than complicated.\n",
      "Flat is better than nested.\n",
      "Sparse is better than dense.\n",
      "Readability counts.\n",
      "Special cases aren't special enough to break the rules.\n",
      "Although practicality beats purity.\n",
      "Errors should never pass silently.\n",
      "Unless explicitly silenced.\n",
      "In the face of ambiguity, refuse the temptation to guess.\n",
      "There should be one-- and preferably only one --obvious way to do it.\n",
      "Although that way may not be obvious at first unless you're Dutch.\n",
      "Now is better than never.\n",
      "Although never is often better than *right* now.\n",
      "If the implementation is hard to explain, it's a bad idea.\n",
      "If the implementation is easy to explain, it may be a good idea.\n",
      "Namespaces are one honking great idea -- let's do more of those!\n"
     ]
    }
   ],
   "source": [
    "import yaml\n",
    "import os\n",
    "import sys\n",
    "import pickle\n",
    "import torch\n",
    "\n",
    "sys.path.append(\"/root/code/iasc_imcomplete/2_MaskGenerator\")\n",
    "from model.mgan.architecture import Generator, Discriminator, MODULES\n",
    "\n",
    "\n",
    "config_path = \"/root/code/iasc_imcomplete/2_MaskGenerator/configs/default_no_attn_feature_condition_false.yaml\"\n",
    "ckpt_path = \"/root/code/iasc_imcomplete/checkpoints/train_mgan_default_diff_aug_true_attn_false_extra_feature_condition_false_batch_256_0.1_0.6/epoch=17-val_fid=64.987.ckpt\"\n",
    "with open(config_path, \"r\") as fp: \n",
    "    config_file = yaml.load(fp, Loader=yaml.FullLoader)"
   ]
  },
  {
   "cell_type": "code",
   "execution_count": 26,
   "metadata": {},
   "outputs": [],
   "source": [
    "mgan_config = config_file['mgan_config']\n",
    "num_classes = config_file['label_nc']\n",
    "module = MODULES(apply_g_sn=mgan_config['apply_g_sn'], apply_d_sn=mgan_config['apply_d_sn'])\n",
    "\n",
    "generator = Generator(\n",
    "    z_dim=mgan_config['z_dim'],\n",
    "    g_shared_dim=mgan_config['g_shared_dim'],\n",
    "    img_size=config_file['crop_size'],\n",
    "    g_conv_dim=mgan_config['g_conv_dim'],\n",
    "    apply_attn=mgan_config['apply_attn'],\n",
    "    attn_g_loc=mgan_config['attn_g_loc'],\n",
    "    num_classes=num_classes,\n",
    "    MODULES=module,\n",
    "    extra_feature_condition=mgan_config['extra_feature_condition']\n",
    "    )"
   ]
  },
  {
   "cell_type": "code",
   "execution_count": 27,
   "metadata": {},
   "outputs": [
    {
     "data": {
      "text/plain": [
       "odict_keys(['generator.linear0.bias', 'generator.linear0.weight_orig', 'generator.linear0.weight_u', 'generator.linear0.weight_v', 'generator.shared.weight', 'generator.blocks.0.0.bn1.bn.running_mean', 'generator.blocks.0.0.bn1.bn.running_var', 'generator.blocks.0.0.bn1.bn.num_batches_tracked', 'generator.blocks.0.0.bn1.gain.weight_orig', 'generator.blocks.0.0.bn1.gain.weight_u', 'generator.blocks.0.0.bn1.gain.weight_v', 'generator.blocks.0.0.bn1.bias.weight_orig', 'generator.blocks.0.0.bn1.bias.weight_u', 'generator.blocks.0.0.bn1.bias.weight_v', 'generator.blocks.0.0.bn2.bn.running_mean', 'generator.blocks.0.0.bn2.bn.running_var', 'generator.blocks.0.0.bn2.bn.num_batches_tracked', 'generator.blocks.0.0.bn2.gain.weight_orig', 'generator.blocks.0.0.bn2.gain.weight_u', 'generator.blocks.0.0.bn2.gain.weight_v', 'generator.blocks.0.0.bn2.bias.weight_orig', 'generator.blocks.0.0.bn2.bias.weight_u', 'generator.blocks.0.0.bn2.bias.weight_v', 'generator.blocks.0.0.conv2d0.bias', 'generator.blocks.0.0.conv2d0.weight_orig', 'generator.blocks.0.0.conv2d0.weight_u', 'generator.blocks.0.0.conv2d0.weight_v', 'generator.blocks.0.0.conv2d1.bias', 'generator.blocks.0.0.conv2d1.weight_orig', 'generator.blocks.0.0.conv2d1.weight_u', 'generator.blocks.0.0.conv2d1.weight_v', 'generator.blocks.0.0.conv2d2.bias', 'generator.blocks.0.0.conv2d2.weight_orig', 'generator.blocks.0.0.conv2d2.weight_u', 'generator.blocks.0.0.conv2d2.weight_v', 'generator.blocks.1.0.bn1.bn.running_mean', 'generator.blocks.1.0.bn1.bn.running_var', 'generator.blocks.1.0.bn1.bn.num_batches_tracked', 'generator.blocks.1.0.bn1.gain.weight_orig', 'generator.blocks.1.0.bn1.gain.weight_u', 'generator.blocks.1.0.bn1.gain.weight_v', 'generator.blocks.1.0.bn1.bias.weight_orig', 'generator.blocks.1.0.bn1.bias.weight_u', 'generator.blocks.1.0.bn1.bias.weight_v', 'generator.blocks.1.0.bn2.bn.running_mean', 'generator.blocks.1.0.bn2.bn.running_var', 'generator.blocks.1.0.bn2.bn.num_batches_tracked', 'generator.blocks.1.0.bn2.gain.weight_orig', 'generator.blocks.1.0.bn2.gain.weight_u', 'generator.blocks.1.0.bn2.gain.weight_v', 'generator.blocks.1.0.bn2.bias.weight_orig', 'generator.blocks.1.0.bn2.bias.weight_u', 'generator.blocks.1.0.bn2.bias.weight_v', 'generator.blocks.1.0.conv2d0.bias', 'generator.blocks.1.0.conv2d0.weight_orig', 'generator.blocks.1.0.conv2d0.weight_u', 'generator.blocks.1.0.conv2d0.weight_v', 'generator.blocks.1.0.conv2d1.bias', 'generator.blocks.1.0.conv2d1.weight_orig', 'generator.blocks.1.0.conv2d1.weight_u', 'generator.blocks.1.0.conv2d1.weight_v', 'generator.blocks.1.0.conv2d2.bias', 'generator.blocks.1.0.conv2d2.weight_orig', 'generator.blocks.1.0.conv2d2.weight_u', 'generator.blocks.1.0.conv2d2.weight_v', 'generator.blocks.2.0.bn1.bn.running_mean', 'generator.blocks.2.0.bn1.bn.running_var', 'generator.blocks.2.0.bn1.bn.num_batches_tracked', 'generator.blocks.2.0.bn1.gain.weight_orig', 'generator.blocks.2.0.bn1.gain.weight_u', 'generator.blocks.2.0.bn1.gain.weight_v', 'generator.blocks.2.0.bn1.bias.weight_orig', 'generator.blocks.2.0.bn1.bias.weight_u', 'generator.blocks.2.0.bn1.bias.weight_v', 'generator.blocks.2.0.bn2.bn.running_mean', 'generator.blocks.2.0.bn2.bn.running_var', 'generator.blocks.2.0.bn2.bn.num_batches_tracked', 'generator.blocks.2.0.bn2.gain.weight_orig', 'generator.blocks.2.0.bn2.gain.weight_u', 'generator.blocks.2.0.bn2.gain.weight_v', 'generator.blocks.2.0.bn2.bias.weight_orig', 'generator.blocks.2.0.bn2.bias.weight_u', 'generator.blocks.2.0.bn2.bias.weight_v', 'generator.blocks.2.0.conv2d0.bias', 'generator.blocks.2.0.conv2d0.weight_orig', 'generator.blocks.2.0.conv2d0.weight_u', 'generator.blocks.2.0.conv2d0.weight_v', 'generator.blocks.2.0.conv2d1.bias', 'generator.blocks.2.0.conv2d1.weight_orig', 'generator.blocks.2.0.conv2d1.weight_u', 'generator.blocks.2.0.conv2d1.weight_v', 'generator.blocks.2.0.conv2d2.bias', 'generator.blocks.2.0.conv2d2.weight_orig', 'generator.blocks.2.0.conv2d2.weight_u', 'generator.blocks.2.0.conv2d2.weight_v', 'generator.blocks.3.0.bn1.bn.running_mean', 'generator.blocks.3.0.bn1.bn.running_var', 'generator.blocks.3.0.bn1.bn.num_batches_tracked', 'generator.blocks.3.0.bn1.gain.weight_orig', 'generator.blocks.3.0.bn1.gain.weight_u', 'generator.blocks.3.0.bn1.gain.weight_v', 'generator.blocks.3.0.bn1.bias.weight_orig', 'generator.blocks.3.0.bn1.bias.weight_u', 'generator.blocks.3.0.bn1.bias.weight_v', 'generator.blocks.3.0.bn2.bn.running_mean', 'generator.blocks.3.0.bn2.bn.running_var', 'generator.blocks.3.0.bn2.bn.num_batches_tracked', 'generator.blocks.3.0.bn2.gain.weight_orig', 'generator.blocks.3.0.bn2.gain.weight_u', 'generator.blocks.3.0.bn2.gain.weight_v', 'generator.blocks.3.0.bn2.bias.weight_orig', 'generator.blocks.3.0.bn2.bias.weight_u', 'generator.blocks.3.0.bn2.bias.weight_v', 'generator.blocks.3.0.conv2d0.bias', 'generator.blocks.3.0.conv2d0.weight_orig', 'generator.blocks.3.0.conv2d0.weight_u', 'generator.blocks.3.0.conv2d0.weight_v', 'generator.blocks.3.0.conv2d1.bias', 'generator.blocks.3.0.conv2d1.weight_orig', 'generator.blocks.3.0.conv2d1.weight_u', 'generator.blocks.3.0.conv2d1.weight_v', 'generator.blocks.3.0.conv2d2.bias', 'generator.blocks.3.0.conv2d2.weight_orig', 'generator.blocks.3.0.conv2d2.weight_u', 'generator.blocks.3.0.conv2d2.weight_v', 'generator.bn4.weight', 'generator.bn4.bias', 'generator.bn4.running_mean', 'generator.bn4.running_var', 'generator.bn4.num_batches_tracked', 'generator.conv2d5.bias', 'generator.conv2d5.weight_orig', 'generator.conv2d5.weight_u', 'generator.conv2d5.weight_v', 'discriminator.blocks.0.0.conv2d0.bias', 'discriminator.blocks.0.0.conv2d0.weight_orig', 'discriminator.blocks.0.0.conv2d0.weight_u', 'discriminator.blocks.0.0.conv2d0.weight_v', 'discriminator.blocks.0.0.conv2d1.bias', 'discriminator.blocks.0.0.conv2d1.weight_orig', 'discriminator.blocks.0.0.conv2d1.weight_u', 'discriminator.blocks.0.0.conv2d1.weight_v', 'discriminator.blocks.0.0.conv2d2.bias', 'discriminator.blocks.0.0.conv2d2.weight_orig', 'discriminator.blocks.0.0.conv2d2.weight_u', 'discriminator.blocks.0.0.conv2d2.weight_v', 'discriminator.blocks.1.0.conv2d0.bias', 'discriminator.blocks.1.0.conv2d0.weight_orig', 'discriminator.blocks.1.0.conv2d0.weight_u', 'discriminator.blocks.1.0.conv2d0.weight_v', 'discriminator.blocks.1.0.conv2d1.bias', 'discriminator.blocks.1.0.conv2d1.weight_orig', 'discriminator.blocks.1.0.conv2d1.weight_u', 'discriminator.blocks.1.0.conv2d1.weight_v', 'discriminator.blocks.1.0.conv2d2.bias', 'discriminator.blocks.1.0.conv2d2.weight_orig', 'discriminator.blocks.1.0.conv2d2.weight_u', 'discriminator.blocks.1.0.conv2d2.weight_v', 'discriminator.blocks.2.0.conv2d0.bias', 'discriminator.blocks.2.0.conv2d0.weight_orig', 'discriminator.blocks.2.0.conv2d0.weight_u', 'discriminator.blocks.2.0.conv2d0.weight_v', 'discriminator.blocks.2.0.conv2d1.bias', 'discriminator.blocks.2.0.conv2d1.weight_orig', 'discriminator.blocks.2.0.conv2d1.weight_u', 'discriminator.blocks.2.0.conv2d1.weight_v', 'discriminator.blocks.2.0.conv2d2.bias', 'discriminator.blocks.2.0.conv2d2.weight_orig', 'discriminator.blocks.2.0.conv2d2.weight_u', 'discriminator.blocks.2.0.conv2d2.weight_v', 'discriminator.blocks.3.0.conv2d0.bias', 'discriminator.blocks.3.0.conv2d0.weight_orig', 'discriminator.blocks.3.0.conv2d0.weight_u', 'discriminator.blocks.3.0.conv2d0.weight_v', 'discriminator.blocks.3.0.conv2d1.bias', 'discriminator.blocks.3.0.conv2d1.weight_orig', 'discriminator.blocks.3.0.conv2d1.weight_u', 'discriminator.blocks.3.0.conv2d1.weight_v', 'discriminator.blocks.3.0.conv2d2.bias', 'discriminator.blocks.3.0.conv2d2.weight_orig', 'discriminator.blocks.3.0.conv2d2.weight_u', 'discriminator.blocks.3.0.conv2d2.weight_v', 'discriminator.blocks.4.0.conv2d0.bias', 'discriminator.blocks.4.0.conv2d0.weight_orig', 'discriminator.blocks.4.0.conv2d0.weight_u', 'discriminator.blocks.4.0.conv2d0.weight_v', 'discriminator.blocks.4.0.conv2d1.bias', 'discriminator.blocks.4.0.conv2d1.weight_orig', 'discriminator.blocks.4.0.conv2d1.weight_u', 'discriminator.blocks.4.0.conv2d1.weight_v', 'discriminator.blocks.4.0.conv2d2.bias', 'discriminator.blocks.4.0.conv2d2.weight_orig', 'discriminator.blocks.4.0.conv2d2.weight_u', 'discriminator.blocks.4.0.conv2d2.weight_v', 'discriminator.linear1.bias', 'discriminator.linear1.weight_orig', 'discriminator.linear1.weight_u', 'discriminator.linear1.weight_v', 'discriminator.embedding.weight_orig', 'discriminator.embedding.weight_u', 'discriminator.embedding.weight_v', 'fid.inception.Conv2d_1a_3x3.conv.weight', 'fid.inception.Conv2d_1a_3x3.bn.weight', 'fid.inception.Conv2d_1a_3x3.bn.bias', 'fid.inception.Conv2d_1a_3x3.bn.running_mean', 'fid.inception.Conv2d_1a_3x3.bn.running_var', 'fid.inception.Conv2d_1a_3x3.bn.num_batches_tracked', 'fid.inception.Conv2d_2a_3x3.conv.weight', 'fid.inception.Conv2d_2a_3x3.bn.weight', 'fid.inception.Conv2d_2a_3x3.bn.bias', 'fid.inception.Conv2d_2a_3x3.bn.running_mean', 'fid.inception.Conv2d_2a_3x3.bn.running_var', 'fid.inception.Conv2d_2a_3x3.bn.num_batches_tracked', 'fid.inception.Conv2d_2b_3x3.conv.weight', 'fid.inception.Conv2d_2b_3x3.bn.weight', 'fid.inception.Conv2d_2b_3x3.bn.bias', 'fid.inception.Conv2d_2b_3x3.bn.running_mean', 'fid.inception.Conv2d_2b_3x3.bn.running_var', 'fid.inception.Conv2d_2b_3x3.bn.num_batches_tracked', 'fid.inception.Conv2d_3b_1x1.conv.weight', 'fid.inception.Conv2d_3b_1x1.bn.weight', 'fid.inception.Conv2d_3b_1x1.bn.bias', 'fid.inception.Conv2d_3b_1x1.bn.running_mean', 'fid.inception.Conv2d_3b_1x1.bn.running_var', 'fid.inception.Conv2d_3b_1x1.bn.num_batches_tracked', 'fid.inception.Conv2d_4a_3x3.conv.weight', 'fid.inception.Conv2d_4a_3x3.bn.weight', 'fid.inception.Conv2d_4a_3x3.bn.bias', 'fid.inception.Conv2d_4a_3x3.bn.running_mean', 'fid.inception.Conv2d_4a_3x3.bn.running_var', 'fid.inception.Conv2d_4a_3x3.bn.num_batches_tracked', 'fid.inception.Mixed_5b.branch1x1.conv.weight', 'fid.inception.Mixed_5b.branch1x1.bn.weight', 'fid.inception.Mixed_5b.branch1x1.bn.bias', 'fid.inception.Mixed_5b.branch1x1.bn.running_mean', 'fid.inception.Mixed_5b.branch1x1.bn.running_var', 'fid.inception.Mixed_5b.branch1x1.bn.num_batches_tracked', 'fid.inception.Mixed_5b.branch5x5_1.conv.weight', 'fid.inception.Mixed_5b.branch5x5_1.bn.weight', 'fid.inception.Mixed_5b.branch5x5_1.bn.bias', 'fid.inception.Mixed_5b.branch5x5_1.bn.running_mean', 'fid.inception.Mixed_5b.branch5x5_1.bn.running_var', 'fid.inception.Mixed_5b.branch5x5_1.bn.num_batches_tracked', 'fid.inception.Mixed_5b.branch5x5_2.conv.weight', 'fid.inception.Mixed_5b.branch5x5_2.bn.weight', 'fid.inception.Mixed_5b.branch5x5_2.bn.bias', 'fid.inception.Mixed_5b.branch5x5_2.bn.running_mean', 'fid.inception.Mixed_5b.branch5x5_2.bn.running_var', 'fid.inception.Mixed_5b.branch5x5_2.bn.num_batches_tracked', 'fid.inception.Mixed_5b.branch3x3dbl_1.conv.weight', 'fid.inception.Mixed_5b.branch3x3dbl_1.bn.weight', 'fid.inception.Mixed_5b.branch3x3dbl_1.bn.bias', 'fid.inception.Mixed_5b.branch3x3dbl_1.bn.running_mean', 'fid.inception.Mixed_5b.branch3x3dbl_1.bn.running_var', 'fid.inception.Mixed_5b.branch3x3dbl_1.bn.num_batches_tracked', 'fid.inception.Mixed_5b.branch3x3dbl_2.conv.weight', 'fid.inception.Mixed_5b.branch3x3dbl_2.bn.weight', 'fid.inception.Mixed_5b.branch3x3dbl_2.bn.bias', 'fid.inception.Mixed_5b.branch3x3dbl_2.bn.running_mean', 'fid.inception.Mixed_5b.branch3x3dbl_2.bn.running_var', 'fid.inception.Mixed_5b.branch3x3dbl_2.bn.num_batches_tracked', 'fid.inception.Mixed_5b.branch3x3dbl_3.conv.weight', 'fid.inception.Mixed_5b.branch3x3dbl_3.bn.weight', 'fid.inception.Mixed_5b.branch3x3dbl_3.bn.bias', 'fid.inception.Mixed_5b.branch3x3dbl_3.bn.running_mean', 'fid.inception.Mixed_5b.branch3x3dbl_3.bn.running_var', 'fid.inception.Mixed_5b.branch3x3dbl_3.bn.num_batches_tracked', 'fid.inception.Mixed_5b.branch_pool.conv.weight', 'fid.inception.Mixed_5b.branch_pool.bn.weight', 'fid.inception.Mixed_5b.branch_pool.bn.bias', 'fid.inception.Mixed_5b.branch_pool.bn.running_mean', 'fid.inception.Mixed_5b.branch_pool.bn.running_var', 'fid.inception.Mixed_5b.branch_pool.bn.num_batches_tracked', 'fid.inception.Mixed_5c.branch1x1.conv.weight', 'fid.inception.Mixed_5c.branch1x1.bn.weight', 'fid.inception.Mixed_5c.branch1x1.bn.bias', 'fid.inception.Mixed_5c.branch1x1.bn.running_mean', 'fid.inception.Mixed_5c.branch1x1.bn.running_var', 'fid.inception.Mixed_5c.branch1x1.bn.num_batches_tracked', 'fid.inception.Mixed_5c.branch5x5_1.conv.weight', 'fid.inception.Mixed_5c.branch5x5_1.bn.weight', 'fid.inception.Mixed_5c.branch5x5_1.bn.bias', 'fid.inception.Mixed_5c.branch5x5_1.bn.running_mean', 'fid.inception.Mixed_5c.branch5x5_1.bn.running_var', 'fid.inception.Mixed_5c.branch5x5_1.bn.num_batches_tracked', 'fid.inception.Mixed_5c.branch5x5_2.conv.weight', 'fid.inception.Mixed_5c.branch5x5_2.bn.weight', 'fid.inception.Mixed_5c.branch5x5_2.bn.bias', 'fid.inception.Mixed_5c.branch5x5_2.bn.running_mean', 'fid.inception.Mixed_5c.branch5x5_2.bn.running_var', 'fid.inception.Mixed_5c.branch5x5_2.bn.num_batches_tracked', 'fid.inception.Mixed_5c.branch3x3dbl_1.conv.weight', 'fid.inception.Mixed_5c.branch3x3dbl_1.bn.weight', 'fid.inception.Mixed_5c.branch3x3dbl_1.bn.bias', 'fid.inception.Mixed_5c.branch3x3dbl_1.bn.running_mean', 'fid.inception.Mixed_5c.branch3x3dbl_1.bn.running_var', 'fid.inception.Mixed_5c.branch3x3dbl_1.bn.num_batches_tracked', 'fid.inception.Mixed_5c.branch3x3dbl_2.conv.weight', 'fid.inception.Mixed_5c.branch3x3dbl_2.bn.weight', 'fid.inception.Mixed_5c.branch3x3dbl_2.bn.bias', 'fid.inception.Mixed_5c.branch3x3dbl_2.bn.running_mean', 'fid.inception.Mixed_5c.branch3x3dbl_2.bn.running_var', 'fid.inception.Mixed_5c.branch3x3dbl_2.bn.num_batches_tracked', 'fid.inception.Mixed_5c.branch3x3dbl_3.conv.weight', 'fid.inception.Mixed_5c.branch3x3dbl_3.bn.weight', 'fid.inception.Mixed_5c.branch3x3dbl_3.bn.bias', 'fid.inception.Mixed_5c.branch3x3dbl_3.bn.running_mean', 'fid.inception.Mixed_5c.branch3x3dbl_3.bn.running_var', 'fid.inception.Mixed_5c.branch3x3dbl_3.bn.num_batches_tracked', 'fid.inception.Mixed_5c.branch_pool.conv.weight', 'fid.inception.Mixed_5c.branch_pool.bn.weight', 'fid.inception.Mixed_5c.branch_pool.bn.bias', 'fid.inception.Mixed_5c.branch_pool.bn.running_mean', 'fid.inception.Mixed_5c.branch_pool.bn.running_var', 'fid.inception.Mixed_5c.branch_pool.bn.num_batches_tracked', 'fid.inception.Mixed_5d.branch1x1.conv.weight', 'fid.inception.Mixed_5d.branch1x1.bn.weight', 'fid.inception.Mixed_5d.branch1x1.bn.bias', 'fid.inception.Mixed_5d.branch1x1.bn.running_mean', 'fid.inception.Mixed_5d.branch1x1.bn.running_var', 'fid.inception.Mixed_5d.branch1x1.bn.num_batches_tracked', 'fid.inception.Mixed_5d.branch5x5_1.conv.weight', 'fid.inception.Mixed_5d.branch5x5_1.bn.weight', 'fid.inception.Mixed_5d.branch5x5_1.bn.bias', 'fid.inception.Mixed_5d.branch5x5_1.bn.running_mean', 'fid.inception.Mixed_5d.branch5x5_1.bn.running_var', 'fid.inception.Mixed_5d.branch5x5_1.bn.num_batches_tracked', 'fid.inception.Mixed_5d.branch5x5_2.conv.weight', 'fid.inception.Mixed_5d.branch5x5_2.bn.weight', 'fid.inception.Mixed_5d.branch5x5_2.bn.bias', 'fid.inception.Mixed_5d.branch5x5_2.bn.running_mean', 'fid.inception.Mixed_5d.branch5x5_2.bn.running_var', 'fid.inception.Mixed_5d.branch5x5_2.bn.num_batches_tracked', 'fid.inception.Mixed_5d.branch3x3dbl_1.conv.weight', 'fid.inception.Mixed_5d.branch3x3dbl_1.bn.weight', 'fid.inception.Mixed_5d.branch3x3dbl_1.bn.bias', 'fid.inception.Mixed_5d.branch3x3dbl_1.bn.running_mean', 'fid.inception.Mixed_5d.branch3x3dbl_1.bn.running_var', 'fid.inception.Mixed_5d.branch3x3dbl_1.bn.num_batches_tracked', 'fid.inception.Mixed_5d.branch3x3dbl_2.conv.weight', 'fid.inception.Mixed_5d.branch3x3dbl_2.bn.weight', 'fid.inception.Mixed_5d.branch3x3dbl_2.bn.bias', 'fid.inception.Mixed_5d.branch3x3dbl_2.bn.running_mean', 'fid.inception.Mixed_5d.branch3x3dbl_2.bn.running_var', 'fid.inception.Mixed_5d.branch3x3dbl_2.bn.num_batches_tracked', 'fid.inception.Mixed_5d.branch3x3dbl_3.conv.weight', 'fid.inception.Mixed_5d.branch3x3dbl_3.bn.weight', 'fid.inception.Mixed_5d.branch3x3dbl_3.bn.bias', 'fid.inception.Mixed_5d.branch3x3dbl_3.bn.running_mean', 'fid.inception.Mixed_5d.branch3x3dbl_3.bn.running_var', 'fid.inception.Mixed_5d.branch3x3dbl_3.bn.num_batches_tracked', 'fid.inception.Mixed_5d.branch_pool.conv.weight', 'fid.inception.Mixed_5d.branch_pool.bn.weight', 'fid.inception.Mixed_5d.branch_pool.bn.bias', 'fid.inception.Mixed_5d.branch_pool.bn.running_mean', 'fid.inception.Mixed_5d.branch_pool.bn.running_var', 'fid.inception.Mixed_5d.branch_pool.bn.num_batches_tracked', 'fid.inception.Mixed_6a.branch3x3.conv.weight', 'fid.inception.Mixed_6a.branch3x3.bn.weight', 'fid.inception.Mixed_6a.branch3x3.bn.bias', 'fid.inception.Mixed_6a.branch3x3.bn.running_mean', 'fid.inception.Mixed_6a.branch3x3.bn.running_var', 'fid.inception.Mixed_6a.branch3x3.bn.num_batches_tracked', 'fid.inception.Mixed_6a.branch3x3dbl_1.conv.weight', 'fid.inception.Mixed_6a.branch3x3dbl_1.bn.weight', 'fid.inception.Mixed_6a.branch3x3dbl_1.bn.bias', 'fid.inception.Mixed_6a.branch3x3dbl_1.bn.running_mean', 'fid.inception.Mixed_6a.branch3x3dbl_1.bn.running_var', 'fid.inception.Mixed_6a.branch3x3dbl_1.bn.num_batches_tracked', 'fid.inception.Mixed_6a.branch3x3dbl_2.conv.weight', 'fid.inception.Mixed_6a.branch3x3dbl_2.bn.weight', 'fid.inception.Mixed_6a.branch3x3dbl_2.bn.bias', 'fid.inception.Mixed_6a.branch3x3dbl_2.bn.running_mean', 'fid.inception.Mixed_6a.branch3x3dbl_2.bn.running_var', 'fid.inception.Mixed_6a.branch3x3dbl_2.bn.num_batches_tracked', 'fid.inception.Mixed_6a.branch3x3dbl_3.conv.weight', 'fid.inception.Mixed_6a.branch3x3dbl_3.bn.weight', 'fid.inception.Mixed_6a.branch3x3dbl_3.bn.bias', 'fid.inception.Mixed_6a.branch3x3dbl_3.bn.running_mean', 'fid.inception.Mixed_6a.branch3x3dbl_3.bn.running_var', 'fid.inception.Mixed_6a.branch3x3dbl_3.bn.num_batches_tracked', 'fid.inception.Mixed_6b.branch1x1.conv.weight', 'fid.inception.Mixed_6b.branch1x1.bn.weight', 'fid.inception.Mixed_6b.branch1x1.bn.bias', 'fid.inception.Mixed_6b.branch1x1.bn.running_mean', 'fid.inception.Mixed_6b.branch1x1.bn.running_var', 'fid.inception.Mixed_6b.branch1x1.bn.num_batches_tracked', 'fid.inception.Mixed_6b.branch7x7_1.conv.weight', 'fid.inception.Mixed_6b.branch7x7_1.bn.weight', 'fid.inception.Mixed_6b.branch7x7_1.bn.bias', 'fid.inception.Mixed_6b.branch7x7_1.bn.running_mean', 'fid.inception.Mixed_6b.branch7x7_1.bn.running_var', 'fid.inception.Mixed_6b.branch7x7_1.bn.num_batches_tracked', 'fid.inception.Mixed_6b.branch7x7_2.conv.weight', 'fid.inception.Mixed_6b.branch7x7_2.bn.weight', 'fid.inception.Mixed_6b.branch7x7_2.bn.bias', 'fid.inception.Mixed_6b.branch7x7_2.bn.running_mean', 'fid.inception.Mixed_6b.branch7x7_2.bn.running_var', 'fid.inception.Mixed_6b.branch7x7_2.bn.num_batches_tracked', 'fid.inception.Mixed_6b.branch7x7_3.conv.weight', 'fid.inception.Mixed_6b.branch7x7_3.bn.weight', 'fid.inception.Mixed_6b.branch7x7_3.bn.bias', 'fid.inception.Mixed_6b.branch7x7_3.bn.running_mean', 'fid.inception.Mixed_6b.branch7x7_3.bn.running_var', 'fid.inception.Mixed_6b.branch7x7_3.bn.num_batches_tracked', 'fid.inception.Mixed_6b.branch7x7dbl_1.conv.weight', 'fid.inception.Mixed_6b.branch7x7dbl_1.bn.weight', 'fid.inception.Mixed_6b.branch7x7dbl_1.bn.bias', 'fid.inception.Mixed_6b.branch7x7dbl_1.bn.running_mean', 'fid.inception.Mixed_6b.branch7x7dbl_1.bn.running_var', 'fid.inception.Mixed_6b.branch7x7dbl_1.bn.num_batches_tracked', 'fid.inception.Mixed_6b.branch7x7dbl_2.conv.weight', 'fid.inception.Mixed_6b.branch7x7dbl_2.bn.weight', 'fid.inception.Mixed_6b.branch7x7dbl_2.bn.bias', 'fid.inception.Mixed_6b.branch7x7dbl_2.bn.running_mean', 'fid.inception.Mixed_6b.branch7x7dbl_2.bn.running_var', 'fid.inception.Mixed_6b.branch7x7dbl_2.bn.num_batches_tracked', 'fid.inception.Mixed_6b.branch7x7dbl_3.conv.weight', 'fid.inception.Mixed_6b.branch7x7dbl_3.bn.weight', 'fid.inception.Mixed_6b.branch7x7dbl_3.bn.bias', 'fid.inception.Mixed_6b.branch7x7dbl_3.bn.running_mean', 'fid.inception.Mixed_6b.branch7x7dbl_3.bn.running_var', 'fid.inception.Mixed_6b.branch7x7dbl_3.bn.num_batches_tracked', 'fid.inception.Mixed_6b.branch7x7dbl_4.conv.weight', 'fid.inception.Mixed_6b.branch7x7dbl_4.bn.weight', 'fid.inception.Mixed_6b.branch7x7dbl_4.bn.bias', 'fid.inception.Mixed_6b.branch7x7dbl_4.bn.running_mean', 'fid.inception.Mixed_6b.branch7x7dbl_4.bn.running_var', 'fid.inception.Mixed_6b.branch7x7dbl_4.bn.num_batches_tracked', 'fid.inception.Mixed_6b.branch7x7dbl_5.conv.weight', 'fid.inception.Mixed_6b.branch7x7dbl_5.bn.weight', 'fid.inception.Mixed_6b.branch7x7dbl_5.bn.bias', 'fid.inception.Mixed_6b.branch7x7dbl_5.bn.running_mean', 'fid.inception.Mixed_6b.branch7x7dbl_5.bn.running_var', 'fid.inception.Mixed_6b.branch7x7dbl_5.bn.num_batches_tracked', 'fid.inception.Mixed_6b.branch_pool.conv.weight', 'fid.inception.Mixed_6b.branch_pool.bn.weight', 'fid.inception.Mixed_6b.branch_pool.bn.bias', 'fid.inception.Mixed_6b.branch_pool.bn.running_mean', 'fid.inception.Mixed_6b.branch_pool.bn.running_var', 'fid.inception.Mixed_6b.branch_pool.bn.num_batches_tracked', 'fid.inception.Mixed_6c.branch1x1.conv.weight', 'fid.inception.Mixed_6c.branch1x1.bn.weight', 'fid.inception.Mixed_6c.branch1x1.bn.bias', 'fid.inception.Mixed_6c.branch1x1.bn.running_mean', 'fid.inception.Mixed_6c.branch1x1.bn.running_var', 'fid.inception.Mixed_6c.branch1x1.bn.num_batches_tracked', 'fid.inception.Mixed_6c.branch7x7_1.conv.weight', 'fid.inception.Mixed_6c.branch7x7_1.bn.weight', 'fid.inception.Mixed_6c.branch7x7_1.bn.bias', 'fid.inception.Mixed_6c.branch7x7_1.bn.running_mean', 'fid.inception.Mixed_6c.branch7x7_1.bn.running_var', 'fid.inception.Mixed_6c.branch7x7_1.bn.num_batches_tracked', 'fid.inception.Mixed_6c.branch7x7_2.conv.weight', 'fid.inception.Mixed_6c.branch7x7_2.bn.weight', 'fid.inception.Mixed_6c.branch7x7_2.bn.bias', 'fid.inception.Mixed_6c.branch7x7_2.bn.running_mean', 'fid.inception.Mixed_6c.branch7x7_2.bn.running_var', 'fid.inception.Mixed_6c.branch7x7_2.bn.num_batches_tracked', 'fid.inception.Mixed_6c.branch7x7_3.conv.weight', 'fid.inception.Mixed_6c.branch7x7_3.bn.weight', 'fid.inception.Mixed_6c.branch7x7_3.bn.bias', 'fid.inception.Mixed_6c.branch7x7_3.bn.running_mean', 'fid.inception.Mixed_6c.branch7x7_3.bn.running_var', 'fid.inception.Mixed_6c.branch7x7_3.bn.num_batches_tracked', 'fid.inception.Mixed_6c.branch7x7dbl_1.conv.weight', 'fid.inception.Mixed_6c.branch7x7dbl_1.bn.weight', 'fid.inception.Mixed_6c.branch7x7dbl_1.bn.bias', 'fid.inception.Mixed_6c.branch7x7dbl_1.bn.running_mean', 'fid.inception.Mixed_6c.branch7x7dbl_1.bn.running_var', 'fid.inception.Mixed_6c.branch7x7dbl_1.bn.num_batches_tracked', 'fid.inception.Mixed_6c.branch7x7dbl_2.conv.weight', 'fid.inception.Mixed_6c.branch7x7dbl_2.bn.weight', 'fid.inception.Mixed_6c.branch7x7dbl_2.bn.bias', 'fid.inception.Mixed_6c.branch7x7dbl_2.bn.running_mean', 'fid.inception.Mixed_6c.branch7x7dbl_2.bn.running_var', 'fid.inception.Mixed_6c.branch7x7dbl_2.bn.num_batches_tracked', 'fid.inception.Mixed_6c.branch7x7dbl_3.conv.weight', 'fid.inception.Mixed_6c.branch7x7dbl_3.bn.weight', 'fid.inception.Mixed_6c.branch7x7dbl_3.bn.bias', 'fid.inception.Mixed_6c.branch7x7dbl_3.bn.running_mean', 'fid.inception.Mixed_6c.branch7x7dbl_3.bn.running_var', 'fid.inception.Mixed_6c.branch7x7dbl_3.bn.num_batches_tracked', 'fid.inception.Mixed_6c.branch7x7dbl_4.conv.weight', 'fid.inception.Mixed_6c.branch7x7dbl_4.bn.weight', 'fid.inception.Mixed_6c.branch7x7dbl_4.bn.bias', 'fid.inception.Mixed_6c.branch7x7dbl_4.bn.running_mean', 'fid.inception.Mixed_6c.branch7x7dbl_4.bn.running_var', 'fid.inception.Mixed_6c.branch7x7dbl_4.bn.num_batches_tracked', 'fid.inception.Mixed_6c.branch7x7dbl_5.conv.weight', 'fid.inception.Mixed_6c.branch7x7dbl_5.bn.weight', 'fid.inception.Mixed_6c.branch7x7dbl_5.bn.bias', 'fid.inception.Mixed_6c.branch7x7dbl_5.bn.running_mean', 'fid.inception.Mixed_6c.branch7x7dbl_5.bn.running_var', 'fid.inception.Mixed_6c.branch7x7dbl_5.bn.num_batches_tracked', 'fid.inception.Mixed_6c.branch_pool.conv.weight', 'fid.inception.Mixed_6c.branch_pool.bn.weight', 'fid.inception.Mixed_6c.branch_pool.bn.bias', 'fid.inception.Mixed_6c.branch_pool.bn.running_mean', 'fid.inception.Mixed_6c.branch_pool.bn.running_var', 'fid.inception.Mixed_6c.branch_pool.bn.num_batches_tracked', 'fid.inception.Mixed_6d.branch1x1.conv.weight', 'fid.inception.Mixed_6d.branch1x1.bn.weight', 'fid.inception.Mixed_6d.branch1x1.bn.bias', 'fid.inception.Mixed_6d.branch1x1.bn.running_mean', 'fid.inception.Mixed_6d.branch1x1.bn.running_var', 'fid.inception.Mixed_6d.branch1x1.bn.num_batches_tracked', 'fid.inception.Mixed_6d.branch7x7_1.conv.weight', 'fid.inception.Mixed_6d.branch7x7_1.bn.weight', 'fid.inception.Mixed_6d.branch7x7_1.bn.bias', 'fid.inception.Mixed_6d.branch7x7_1.bn.running_mean', 'fid.inception.Mixed_6d.branch7x7_1.bn.running_var', 'fid.inception.Mixed_6d.branch7x7_1.bn.num_batches_tracked', 'fid.inception.Mixed_6d.branch7x7_2.conv.weight', 'fid.inception.Mixed_6d.branch7x7_2.bn.weight', 'fid.inception.Mixed_6d.branch7x7_2.bn.bias', 'fid.inception.Mixed_6d.branch7x7_2.bn.running_mean', 'fid.inception.Mixed_6d.branch7x7_2.bn.running_var', 'fid.inception.Mixed_6d.branch7x7_2.bn.num_batches_tracked', 'fid.inception.Mixed_6d.branch7x7_3.conv.weight', 'fid.inception.Mixed_6d.branch7x7_3.bn.weight', 'fid.inception.Mixed_6d.branch7x7_3.bn.bias', 'fid.inception.Mixed_6d.branch7x7_3.bn.running_mean', 'fid.inception.Mixed_6d.branch7x7_3.bn.running_var', 'fid.inception.Mixed_6d.branch7x7_3.bn.num_batches_tracked', 'fid.inception.Mixed_6d.branch7x7dbl_1.conv.weight', 'fid.inception.Mixed_6d.branch7x7dbl_1.bn.weight', 'fid.inception.Mixed_6d.branch7x7dbl_1.bn.bias', 'fid.inception.Mixed_6d.branch7x7dbl_1.bn.running_mean', 'fid.inception.Mixed_6d.branch7x7dbl_1.bn.running_var', 'fid.inception.Mixed_6d.branch7x7dbl_1.bn.num_batches_tracked', 'fid.inception.Mixed_6d.branch7x7dbl_2.conv.weight', 'fid.inception.Mixed_6d.branch7x7dbl_2.bn.weight', 'fid.inception.Mixed_6d.branch7x7dbl_2.bn.bias', 'fid.inception.Mixed_6d.branch7x7dbl_2.bn.running_mean', 'fid.inception.Mixed_6d.branch7x7dbl_2.bn.running_var', 'fid.inception.Mixed_6d.branch7x7dbl_2.bn.num_batches_tracked', 'fid.inception.Mixed_6d.branch7x7dbl_3.conv.weight', 'fid.inception.Mixed_6d.branch7x7dbl_3.bn.weight', 'fid.inception.Mixed_6d.branch7x7dbl_3.bn.bias', 'fid.inception.Mixed_6d.branch7x7dbl_3.bn.running_mean', 'fid.inception.Mixed_6d.branch7x7dbl_3.bn.running_var', 'fid.inception.Mixed_6d.branch7x7dbl_3.bn.num_batches_tracked', 'fid.inception.Mixed_6d.branch7x7dbl_4.conv.weight', 'fid.inception.Mixed_6d.branch7x7dbl_4.bn.weight', 'fid.inception.Mixed_6d.branch7x7dbl_4.bn.bias', 'fid.inception.Mixed_6d.branch7x7dbl_4.bn.running_mean', 'fid.inception.Mixed_6d.branch7x7dbl_4.bn.running_var', 'fid.inception.Mixed_6d.branch7x7dbl_4.bn.num_batches_tracked', 'fid.inception.Mixed_6d.branch7x7dbl_5.conv.weight', 'fid.inception.Mixed_6d.branch7x7dbl_5.bn.weight', 'fid.inception.Mixed_6d.branch7x7dbl_5.bn.bias', 'fid.inception.Mixed_6d.branch7x7dbl_5.bn.running_mean', 'fid.inception.Mixed_6d.branch7x7dbl_5.bn.running_var', 'fid.inception.Mixed_6d.branch7x7dbl_5.bn.num_batches_tracked', 'fid.inception.Mixed_6d.branch_pool.conv.weight', 'fid.inception.Mixed_6d.branch_pool.bn.weight', 'fid.inception.Mixed_6d.branch_pool.bn.bias', 'fid.inception.Mixed_6d.branch_pool.bn.running_mean', 'fid.inception.Mixed_6d.branch_pool.bn.running_var', 'fid.inception.Mixed_6d.branch_pool.bn.num_batches_tracked', 'fid.inception.Mixed_6e.branch1x1.conv.weight', 'fid.inception.Mixed_6e.branch1x1.bn.weight', 'fid.inception.Mixed_6e.branch1x1.bn.bias', 'fid.inception.Mixed_6e.branch1x1.bn.running_mean', 'fid.inception.Mixed_6e.branch1x1.bn.running_var', 'fid.inception.Mixed_6e.branch1x1.bn.num_batches_tracked', 'fid.inception.Mixed_6e.branch7x7_1.conv.weight', 'fid.inception.Mixed_6e.branch7x7_1.bn.weight', 'fid.inception.Mixed_6e.branch7x7_1.bn.bias', 'fid.inception.Mixed_6e.branch7x7_1.bn.running_mean', 'fid.inception.Mixed_6e.branch7x7_1.bn.running_var', 'fid.inception.Mixed_6e.branch7x7_1.bn.num_batches_tracked', 'fid.inception.Mixed_6e.branch7x7_2.conv.weight', 'fid.inception.Mixed_6e.branch7x7_2.bn.weight', 'fid.inception.Mixed_6e.branch7x7_2.bn.bias', 'fid.inception.Mixed_6e.branch7x7_2.bn.running_mean', 'fid.inception.Mixed_6e.branch7x7_2.bn.running_var', 'fid.inception.Mixed_6e.branch7x7_2.bn.num_batches_tracked', 'fid.inception.Mixed_6e.branch7x7_3.conv.weight', 'fid.inception.Mixed_6e.branch7x7_3.bn.weight', 'fid.inception.Mixed_6e.branch7x7_3.bn.bias', 'fid.inception.Mixed_6e.branch7x7_3.bn.running_mean', 'fid.inception.Mixed_6e.branch7x7_3.bn.running_var', 'fid.inception.Mixed_6e.branch7x7_3.bn.num_batches_tracked', 'fid.inception.Mixed_6e.branch7x7dbl_1.conv.weight', 'fid.inception.Mixed_6e.branch7x7dbl_1.bn.weight', 'fid.inception.Mixed_6e.branch7x7dbl_1.bn.bias', 'fid.inception.Mixed_6e.branch7x7dbl_1.bn.running_mean', 'fid.inception.Mixed_6e.branch7x7dbl_1.bn.running_var', 'fid.inception.Mixed_6e.branch7x7dbl_1.bn.num_batches_tracked', 'fid.inception.Mixed_6e.branch7x7dbl_2.conv.weight', 'fid.inception.Mixed_6e.branch7x7dbl_2.bn.weight', 'fid.inception.Mixed_6e.branch7x7dbl_2.bn.bias', 'fid.inception.Mixed_6e.branch7x7dbl_2.bn.running_mean', 'fid.inception.Mixed_6e.branch7x7dbl_2.bn.running_var', 'fid.inception.Mixed_6e.branch7x7dbl_2.bn.num_batches_tracked', 'fid.inception.Mixed_6e.branch7x7dbl_3.conv.weight', 'fid.inception.Mixed_6e.branch7x7dbl_3.bn.weight', 'fid.inception.Mixed_6e.branch7x7dbl_3.bn.bias', 'fid.inception.Mixed_6e.branch7x7dbl_3.bn.running_mean', 'fid.inception.Mixed_6e.branch7x7dbl_3.bn.running_var', 'fid.inception.Mixed_6e.branch7x7dbl_3.bn.num_batches_tracked', 'fid.inception.Mixed_6e.branch7x7dbl_4.conv.weight', 'fid.inception.Mixed_6e.branch7x7dbl_4.bn.weight', 'fid.inception.Mixed_6e.branch7x7dbl_4.bn.bias', 'fid.inception.Mixed_6e.branch7x7dbl_4.bn.running_mean', 'fid.inception.Mixed_6e.branch7x7dbl_4.bn.running_var', 'fid.inception.Mixed_6e.branch7x7dbl_4.bn.num_batches_tracked', 'fid.inception.Mixed_6e.branch7x7dbl_5.conv.weight', 'fid.inception.Mixed_6e.branch7x7dbl_5.bn.weight', 'fid.inception.Mixed_6e.branch7x7dbl_5.bn.bias', 'fid.inception.Mixed_6e.branch7x7dbl_5.bn.running_mean', 'fid.inception.Mixed_6e.branch7x7dbl_5.bn.running_var', 'fid.inception.Mixed_6e.branch7x7dbl_5.bn.num_batches_tracked', 'fid.inception.Mixed_6e.branch_pool.conv.weight', 'fid.inception.Mixed_6e.branch_pool.bn.weight', 'fid.inception.Mixed_6e.branch_pool.bn.bias', 'fid.inception.Mixed_6e.branch_pool.bn.running_mean', 'fid.inception.Mixed_6e.branch_pool.bn.running_var', 'fid.inception.Mixed_6e.branch_pool.bn.num_batches_tracked', 'fid.inception.Mixed_7a.branch3x3_1.conv.weight', 'fid.inception.Mixed_7a.branch3x3_1.bn.weight', 'fid.inception.Mixed_7a.branch3x3_1.bn.bias', 'fid.inception.Mixed_7a.branch3x3_1.bn.running_mean', 'fid.inception.Mixed_7a.branch3x3_1.bn.running_var', 'fid.inception.Mixed_7a.branch3x3_1.bn.num_batches_tracked', 'fid.inception.Mixed_7a.branch3x3_2.conv.weight', 'fid.inception.Mixed_7a.branch3x3_2.bn.weight', 'fid.inception.Mixed_7a.branch3x3_2.bn.bias', 'fid.inception.Mixed_7a.branch3x3_2.bn.running_mean', 'fid.inception.Mixed_7a.branch3x3_2.bn.running_var', 'fid.inception.Mixed_7a.branch3x3_2.bn.num_batches_tracked', 'fid.inception.Mixed_7a.branch7x7x3_1.conv.weight', 'fid.inception.Mixed_7a.branch7x7x3_1.bn.weight', 'fid.inception.Mixed_7a.branch7x7x3_1.bn.bias', 'fid.inception.Mixed_7a.branch7x7x3_1.bn.running_mean', 'fid.inception.Mixed_7a.branch7x7x3_1.bn.running_var', 'fid.inception.Mixed_7a.branch7x7x3_1.bn.num_batches_tracked', 'fid.inception.Mixed_7a.branch7x7x3_2.conv.weight', 'fid.inception.Mixed_7a.branch7x7x3_2.bn.weight', 'fid.inception.Mixed_7a.branch7x7x3_2.bn.bias', 'fid.inception.Mixed_7a.branch7x7x3_2.bn.running_mean', 'fid.inception.Mixed_7a.branch7x7x3_2.bn.running_var', 'fid.inception.Mixed_7a.branch7x7x3_2.bn.num_batches_tracked', 'fid.inception.Mixed_7a.branch7x7x3_3.conv.weight', 'fid.inception.Mixed_7a.branch7x7x3_3.bn.weight', 'fid.inception.Mixed_7a.branch7x7x3_3.bn.bias', 'fid.inception.Mixed_7a.branch7x7x3_3.bn.running_mean', 'fid.inception.Mixed_7a.branch7x7x3_3.bn.running_var', 'fid.inception.Mixed_7a.branch7x7x3_3.bn.num_batches_tracked', 'fid.inception.Mixed_7a.branch7x7x3_4.conv.weight', 'fid.inception.Mixed_7a.branch7x7x3_4.bn.weight', 'fid.inception.Mixed_7a.branch7x7x3_4.bn.bias', 'fid.inception.Mixed_7a.branch7x7x3_4.bn.running_mean', 'fid.inception.Mixed_7a.branch7x7x3_4.bn.running_var', 'fid.inception.Mixed_7a.branch7x7x3_4.bn.num_batches_tracked', 'fid.inception.Mixed_7b.branch1x1.conv.weight', 'fid.inception.Mixed_7b.branch1x1.bn.weight', 'fid.inception.Mixed_7b.branch1x1.bn.bias', 'fid.inception.Mixed_7b.branch1x1.bn.running_mean', 'fid.inception.Mixed_7b.branch1x1.bn.running_var', 'fid.inception.Mixed_7b.branch1x1.bn.num_batches_tracked', 'fid.inception.Mixed_7b.branch3x3_1.conv.weight', 'fid.inception.Mixed_7b.branch3x3_1.bn.weight', 'fid.inception.Mixed_7b.branch3x3_1.bn.bias', 'fid.inception.Mixed_7b.branch3x3_1.bn.running_mean', 'fid.inception.Mixed_7b.branch3x3_1.bn.running_var', 'fid.inception.Mixed_7b.branch3x3_1.bn.num_batches_tracked', 'fid.inception.Mixed_7b.branch3x3_2a.conv.weight', 'fid.inception.Mixed_7b.branch3x3_2a.bn.weight', 'fid.inception.Mixed_7b.branch3x3_2a.bn.bias', 'fid.inception.Mixed_7b.branch3x3_2a.bn.running_mean', 'fid.inception.Mixed_7b.branch3x3_2a.bn.running_var', 'fid.inception.Mixed_7b.branch3x3_2a.bn.num_batches_tracked', 'fid.inception.Mixed_7b.branch3x3_2b.conv.weight', 'fid.inception.Mixed_7b.branch3x3_2b.bn.weight', 'fid.inception.Mixed_7b.branch3x3_2b.bn.bias', 'fid.inception.Mixed_7b.branch3x3_2b.bn.running_mean', 'fid.inception.Mixed_7b.branch3x3_2b.bn.running_var', 'fid.inception.Mixed_7b.branch3x3_2b.bn.num_batches_tracked', 'fid.inception.Mixed_7b.branch3x3dbl_1.conv.weight', 'fid.inception.Mixed_7b.branch3x3dbl_1.bn.weight', 'fid.inception.Mixed_7b.branch3x3dbl_1.bn.bias', 'fid.inception.Mixed_7b.branch3x3dbl_1.bn.running_mean', 'fid.inception.Mixed_7b.branch3x3dbl_1.bn.running_var', 'fid.inception.Mixed_7b.branch3x3dbl_1.bn.num_batches_tracked', 'fid.inception.Mixed_7b.branch3x3dbl_2.conv.weight', 'fid.inception.Mixed_7b.branch3x3dbl_2.bn.weight', 'fid.inception.Mixed_7b.branch3x3dbl_2.bn.bias', 'fid.inception.Mixed_7b.branch3x3dbl_2.bn.running_mean', 'fid.inception.Mixed_7b.branch3x3dbl_2.bn.running_var', 'fid.inception.Mixed_7b.branch3x3dbl_2.bn.num_batches_tracked', 'fid.inception.Mixed_7b.branch3x3dbl_3a.conv.weight', 'fid.inception.Mixed_7b.branch3x3dbl_3a.bn.weight', 'fid.inception.Mixed_7b.branch3x3dbl_3a.bn.bias', 'fid.inception.Mixed_7b.branch3x3dbl_3a.bn.running_mean', 'fid.inception.Mixed_7b.branch3x3dbl_3a.bn.running_var', 'fid.inception.Mixed_7b.branch3x3dbl_3a.bn.num_batches_tracked', 'fid.inception.Mixed_7b.branch3x3dbl_3b.conv.weight', 'fid.inception.Mixed_7b.branch3x3dbl_3b.bn.weight', 'fid.inception.Mixed_7b.branch3x3dbl_3b.bn.bias', 'fid.inception.Mixed_7b.branch3x3dbl_3b.bn.running_mean', 'fid.inception.Mixed_7b.branch3x3dbl_3b.bn.running_var', 'fid.inception.Mixed_7b.branch3x3dbl_3b.bn.num_batches_tracked', 'fid.inception.Mixed_7b.branch_pool.conv.weight', 'fid.inception.Mixed_7b.branch_pool.bn.weight', 'fid.inception.Mixed_7b.branch_pool.bn.bias', 'fid.inception.Mixed_7b.branch_pool.bn.running_mean', 'fid.inception.Mixed_7b.branch_pool.bn.running_var', 'fid.inception.Mixed_7b.branch_pool.bn.num_batches_tracked', 'fid.inception.Mixed_7c.branch1x1.conv.weight', 'fid.inception.Mixed_7c.branch1x1.bn.weight', 'fid.inception.Mixed_7c.branch1x1.bn.bias', 'fid.inception.Mixed_7c.branch1x1.bn.running_mean', 'fid.inception.Mixed_7c.branch1x1.bn.running_var', 'fid.inception.Mixed_7c.branch1x1.bn.num_batches_tracked', 'fid.inception.Mixed_7c.branch3x3_1.conv.weight', 'fid.inception.Mixed_7c.branch3x3_1.bn.weight', 'fid.inception.Mixed_7c.branch3x3_1.bn.bias', 'fid.inception.Mixed_7c.branch3x3_1.bn.running_mean', 'fid.inception.Mixed_7c.branch3x3_1.bn.running_var', 'fid.inception.Mixed_7c.branch3x3_1.bn.num_batches_tracked', 'fid.inception.Mixed_7c.branch3x3_2a.conv.weight', 'fid.inception.Mixed_7c.branch3x3_2a.bn.weight', 'fid.inception.Mixed_7c.branch3x3_2a.bn.bias', 'fid.inception.Mixed_7c.branch3x3_2a.bn.running_mean', 'fid.inception.Mixed_7c.branch3x3_2a.bn.running_var', 'fid.inception.Mixed_7c.branch3x3_2a.bn.num_batches_tracked', 'fid.inception.Mixed_7c.branch3x3_2b.conv.weight', 'fid.inception.Mixed_7c.branch3x3_2b.bn.weight', 'fid.inception.Mixed_7c.branch3x3_2b.bn.bias', 'fid.inception.Mixed_7c.branch3x3_2b.bn.running_mean', 'fid.inception.Mixed_7c.branch3x3_2b.bn.running_var', 'fid.inception.Mixed_7c.branch3x3_2b.bn.num_batches_tracked', 'fid.inception.Mixed_7c.branch3x3dbl_1.conv.weight', 'fid.inception.Mixed_7c.branch3x3dbl_1.bn.weight', 'fid.inception.Mixed_7c.branch3x3dbl_1.bn.bias', 'fid.inception.Mixed_7c.branch3x3dbl_1.bn.running_mean', 'fid.inception.Mixed_7c.branch3x3dbl_1.bn.running_var', 'fid.inception.Mixed_7c.branch3x3dbl_1.bn.num_batches_tracked', 'fid.inception.Mixed_7c.branch3x3dbl_2.conv.weight', 'fid.inception.Mixed_7c.branch3x3dbl_2.bn.weight', 'fid.inception.Mixed_7c.branch3x3dbl_2.bn.bias', 'fid.inception.Mixed_7c.branch3x3dbl_2.bn.running_mean', 'fid.inception.Mixed_7c.branch3x3dbl_2.bn.running_var', 'fid.inception.Mixed_7c.branch3x3dbl_2.bn.num_batches_tracked', 'fid.inception.Mixed_7c.branch3x3dbl_3a.conv.weight', 'fid.inception.Mixed_7c.branch3x3dbl_3a.bn.weight', 'fid.inception.Mixed_7c.branch3x3dbl_3a.bn.bias', 'fid.inception.Mixed_7c.branch3x3dbl_3a.bn.running_mean', 'fid.inception.Mixed_7c.branch3x3dbl_3a.bn.running_var', 'fid.inception.Mixed_7c.branch3x3dbl_3a.bn.num_batches_tracked', 'fid.inception.Mixed_7c.branch3x3dbl_3b.conv.weight', 'fid.inception.Mixed_7c.branch3x3dbl_3b.bn.weight', 'fid.inception.Mixed_7c.branch3x3dbl_3b.bn.bias', 'fid.inception.Mixed_7c.branch3x3dbl_3b.bn.running_mean', 'fid.inception.Mixed_7c.branch3x3dbl_3b.bn.running_var', 'fid.inception.Mixed_7c.branch3x3dbl_3b.bn.num_batches_tracked', 'fid.inception.Mixed_7c.branch_pool.conv.weight', 'fid.inception.Mixed_7c.branch_pool.bn.weight', 'fid.inception.Mixed_7c.branch_pool.bn.bias', 'fid.inception.Mixed_7c.branch_pool.bn.running_mean', 'fid.inception.Mixed_7c.branch_pool.bn.running_var', 'fid.inception.Mixed_7c.branch_pool.bn.num_batches_tracked', 'fid.inception.fc.weight', 'fid.inception.fc.bias'])"
      ]
     },
     "execution_count": 27,
     "metadata": {},
     "output_type": "execute_result"
    }
   ],
   "source": [
    "# Load checkpoint\n",
    "checkpoint = torch.load(ckpt_path)\n",
    "new_state_dict = {}\n",
    "checkpoint['state_dict'].keys()\n",
    "for key in checkpoint['state_dict'].keys():\n",
    "    if 'generator' in key:\n",
    "        new_state_dict[key.replace('generator.', '')] = checkpoint['state_dict'][key]\n",
    "\n",
    "generator.load_state_dict(new_state_dict)\n",
    "with open('new_isg.pkl', 'wb') as file:\n",
    "    pickle.dump(generator, file)"
   ]
  },
  {
   "cell_type": "markdown",
   "metadata": {},
   "source": [
    "## BSC"
   ]
  },
  {
   "cell_type": "code",
   "execution_count": 19,
   "metadata": {},
   "outputs": [],
   "source": [
    "import yaml\n",
    "import os\n",
    "import sys\n",
    "import pickle\n",
    "import torch\n",
    "\n",
    "sys.path.append(\"/root/code/iasc_imcomplete/3_BkgSegmentationCompletion\")\n",
    "from model.bsc.architecture import BidirectionalTransformer_avgpool, BidirectionalTransformer_sconv, BidirectionalSwinTransformer_sconv\n",
    "from model.bsc.my_transformer import BidirectionalTransformer_local_global, BidirectionalTransformer_local_global_mask, BidirectionalTransformer_swin_mask\n",
    "from model.bsc.unet_model import UNet\n",
    "\n",
    "config_path = \"/root/code/iasc_imcomplete/3_BkgSegmentationCompletion/configs/vanilla.yaml\"\n",
    "ckpt_path = \"/root/code/iasc_imcomplete/checkpoints/train_bsc_vanilla_0.1_0.6/epoch=186-valid_mIoU=0.602.ckpt\"\n",
    "with open(config_path, \"r\") as fp: \n",
    "    config_file = yaml.load(fp, Loader=yaml.FullLoader)"
   ]
  },
  {
   "cell_type": "code",
   "execution_count": 20,
   "metadata": {},
   "outputs": [
    {
     "name": "stdout",
     "output_type": "stream",
     "text": [
      "Initializing Module Embedding.\n",
      "Initializing Module NonDynamicallyQuantizableLinear.\n",
      "Initializing Module Linear.\n",
      "Initializing Module Linear.\n",
      "Initializing Module NonDynamicallyQuantizableLinear.\n",
      "Initializing Module Linear.\n",
      "Initializing Module Linear.\n",
      "Initializing Module NonDynamicallyQuantizableLinear.\n",
      "Initializing Module Linear.\n",
      "Initializing Module Linear.\n",
      "Initializing Module NonDynamicallyQuantizableLinear.\n",
      "Initializing Module Linear.\n",
      "Initializing Module Linear.\n",
      "Initializing Module NonDynamicallyQuantizableLinear.\n",
      "Initializing Module Linear.\n",
      "Initializing Module Linear.\n",
      "Initializing Module NonDynamicallyQuantizableLinear.\n",
      "Initializing Module Linear.\n",
      "Initializing Module Linear.\n",
      "Initializing Module NonDynamicallyQuantizableLinear.\n",
      "Initializing Module Linear.\n",
      "Initializing Module Linear.\n",
      "Initializing Module NonDynamicallyQuantizableLinear.\n",
      "Initializing Module Linear.\n",
      "Initializing Module Linear.\n",
      "Initializing Module Linear.\n"
     ]
    }
   ],
   "source": [
    "tf_config = config_file['tf_config']\n",
    "label_nc = config_file['label_nc']\n",
    "if tf_config['type'] == 'swin':\n",
    "    bidi_trans = BidirectionalSwinTransformer_sconv(tf_config, label_nc=label_nc) \n",
    "elif tf_config['type'] == 'vanilla':\n",
    "    bidi_trans = BidirectionalTransformer_sconv(tf_config, label_nc=label_nc) \n",
    "elif tf_config['type'] == 'unet':\n",
    "    bidi_trans = UNet(tf_config, label_nc=label_nc)"
   ]
  },
  {
   "cell_type": "code",
   "execution_count": 24,
   "metadata": {},
   "outputs": [],
   "source": [
    "# Load checkpoint\n",
    "checkpoint = torch.load(ckpt_path)\n",
    "new_state_dict = {}\n",
    "\n",
    "for key in checkpoint['state_dict'].keys():\n",
    "    if 'bidi_trans' in key:\n",
    "        new_state_dict[key.replace('bidi_trans.', '')] = checkpoint['state_dict'][key]\n",
    "\n",
    "bidi_trans.load_state_dict(new_state_dict)\n",
    "with open('new_bsc.pkl', 'wb') as file:\n",
    "    pickle.dump(bidi_trans, file)"
   ]
  },
  {
   "cell_type": "code",
   "execution_count": 22,
   "metadata": {},
   "outputs": [
    {
     "data": {
      "text/plain": [
       "odict_keys(['bidi_trans.pos_emb', 'bidi_trans.final_bias', 'bidi_trans.seg2embed.weight', 'bidi_trans.ln.weight', 'bidi_trans.ln.bias', 'bidi_trans.blocks.0.MultiHeadAttention.in_proj_weight', 'bidi_trans.blocks.0.MultiHeadAttention.in_proj_bias', 'bidi_trans.blocks.0.MultiHeadAttention.out_proj.weight', 'bidi_trans.blocks.0.MultiHeadAttention.out_proj.bias', 'bidi_trans.blocks.0.LayerNorm1.weight', 'bidi_trans.blocks.0.LayerNorm1.bias', 'bidi_trans.blocks.0.LayerNorm2.weight', 'bidi_trans.blocks.0.LayerNorm2.bias', 'bidi_trans.blocks.0.MLP.0.weight', 'bidi_trans.blocks.0.MLP.0.bias', 'bidi_trans.blocks.0.MLP.2.weight', 'bidi_trans.blocks.0.MLP.2.bias', 'bidi_trans.blocks.1.MultiHeadAttention.in_proj_weight', 'bidi_trans.blocks.1.MultiHeadAttention.in_proj_bias', 'bidi_trans.blocks.1.MultiHeadAttention.out_proj.weight', 'bidi_trans.blocks.1.MultiHeadAttention.out_proj.bias', 'bidi_trans.blocks.1.LayerNorm1.weight', 'bidi_trans.blocks.1.LayerNorm1.bias', 'bidi_trans.blocks.1.LayerNorm2.weight', 'bidi_trans.blocks.1.LayerNorm2.bias', 'bidi_trans.blocks.1.MLP.0.weight', 'bidi_trans.blocks.1.MLP.0.bias', 'bidi_trans.blocks.1.MLP.2.weight', 'bidi_trans.blocks.1.MLP.2.bias', 'bidi_trans.blocks.2.MultiHeadAttention.in_proj_weight', 'bidi_trans.blocks.2.MultiHeadAttention.in_proj_bias', 'bidi_trans.blocks.2.MultiHeadAttention.out_proj.weight', 'bidi_trans.blocks.2.MultiHeadAttention.out_proj.bias', 'bidi_trans.blocks.2.LayerNorm1.weight', 'bidi_trans.blocks.2.LayerNorm1.bias', 'bidi_trans.blocks.2.LayerNorm2.weight', 'bidi_trans.blocks.2.LayerNorm2.bias', 'bidi_trans.blocks.2.MLP.0.weight', 'bidi_trans.blocks.2.MLP.0.bias', 'bidi_trans.blocks.2.MLP.2.weight', 'bidi_trans.blocks.2.MLP.2.bias', 'bidi_trans.blocks.3.MultiHeadAttention.in_proj_weight', 'bidi_trans.blocks.3.MultiHeadAttention.in_proj_bias', 'bidi_trans.blocks.3.MultiHeadAttention.out_proj.weight', 'bidi_trans.blocks.3.MultiHeadAttention.out_proj.bias', 'bidi_trans.blocks.3.LayerNorm1.weight', 'bidi_trans.blocks.3.LayerNorm1.bias', 'bidi_trans.blocks.3.LayerNorm2.weight', 'bidi_trans.blocks.3.LayerNorm2.bias', 'bidi_trans.blocks.3.MLP.0.weight', 'bidi_trans.blocks.3.MLP.0.bias', 'bidi_trans.blocks.3.MLP.2.weight', 'bidi_trans.blocks.3.MLP.2.bias', 'bidi_trans.blocks.4.MultiHeadAttention.in_proj_weight', 'bidi_trans.blocks.4.MultiHeadAttention.in_proj_bias', 'bidi_trans.blocks.4.MultiHeadAttention.out_proj.weight', 'bidi_trans.blocks.4.MultiHeadAttention.out_proj.bias', 'bidi_trans.blocks.4.LayerNorm1.weight', 'bidi_trans.blocks.4.LayerNorm1.bias', 'bidi_trans.blocks.4.LayerNorm2.weight', 'bidi_trans.blocks.4.LayerNorm2.bias', 'bidi_trans.blocks.4.MLP.0.weight', 'bidi_trans.blocks.4.MLP.0.bias', 'bidi_trans.blocks.4.MLP.2.weight', 'bidi_trans.blocks.4.MLP.2.bias', 'bidi_trans.blocks.5.MultiHeadAttention.in_proj_weight', 'bidi_trans.blocks.5.MultiHeadAttention.in_proj_bias', 'bidi_trans.blocks.5.MultiHeadAttention.out_proj.weight', 'bidi_trans.blocks.5.MultiHeadAttention.out_proj.bias', 'bidi_trans.blocks.5.LayerNorm1.weight', 'bidi_trans.blocks.5.LayerNorm1.bias', 'bidi_trans.blocks.5.LayerNorm2.weight', 'bidi_trans.blocks.5.LayerNorm2.bias', 'bidi_trans.blocks.5.MLP.0.weight', 'bidi_trans.blocks.5.MLP.0.bias', 'bidi_trans.blocks.5.MLP.2.weight', 'bidi_trans.blocks.5.MLP.2.bias', 'bidi_trans.blocks.6.MultiHeadAttention.in_proj_weight', 'bidi_trans.blocks.6.MultiHeadAttention.in_proj_bias', 'bidi_trans.blocks.6.MultiHeadAttention.out_proj.weight', 'bidi_trans.blocks.6.MultiHeadAttention.out_proj.bias', 'bidi_trans.blocks.6.LayerNorm1.weight', 'bidi_trans.blocks.6.LayerNorm1.bias', 'bidi_trans.blocks.6.LayerNorm2.weight', 'bidi_trans.blocks.6.LayerNorm2.bias', 'bidi_trans.blocks.6.MLP.0.weight', 'bidi_trans.blocks.6.MLP.0.bias', 'bidi_trans.blocks.6.MLP.2.weight', 'bidi_trans.blocks.6.MLP.2.bias', 'bidi_trans.blocks.7.MultiHeadAttention.in_proj_weight', 'bidi_trans.blocks.7.MultiHeadAttention.in_proj_bias', 'bidi_trans.blocks.7.MultiHeadAttention.out_proj.weight', 'bidi_trans.blocks.7.MultiHeadAttention.out_proj.bias', 'bidi_trans.blocks.7.LayerNorm1.weight', 'bidi_trans.blocks.7.LayerNorm1.bias', 'bidi_trans.blocks.7.LayerNorm2.weight', 'bidi_trans.blocks.7.LayerNorm2.bias', 'bidi_trans.blocks.7.MLP.0.weight', 'bidi_trans.blocks.7.MLP.0.bias', 'bidi_trans.blocks.7.MLP.2.weight', 'bidi_trans.blocks.7.MLP.2.bias', 'bidi_trans.final_token_prediction.0.weight', 'bidi_trans.final_token_prediction.0.bias', 'bidi_trans.final_token_prediction.2.weight', 'bidi_trans.final_token_prediction.2.bias', 'bidi_trans.neural_renderer.blocks.0.residual_block.conv1.weight', 'bidi_trans.neural_renderer.blocks.0.residual_block.bn1.weight', 'bidi_trans.neural_renderer.blocks.0.residual_block.bn1.bias', 'bidi_trans.neural_renderer.blocks.0.residual_block.bn1.running_mean', 'bidi_trans.neural_renderer.blocks.0.residual_block.bn1.running_var', 'bidi_trans.neural_renderer.blocks.0.residual_block.bn1.num_batches_tracked', 'bidi_trans.neural_renderer.blocks.0.residual_block.conv2.weight', 'bidi_trans.neural_renderer.blocks.0.residual_block.bn2.weight', 'bidi_trans.neural_renderer.blocks.0.residual_block.bn2.bias', 'bidi_trans.neural_renderer.blocks.0.residual_block.bn2.running_mean', 'bidi_trans.neural_renderer.blocks.0.residual_block.bn2.running_var', 'bidi_trans.neural_renderer.blocks.0.residual_block.bn2.num_batches_tracked', 'bidi_trans.neural_renderer.blocks.0.residual_block.surplus_conv.weight', 'bidi_trans.neural_renderer.blocks.1.residual_block.conv1.weight', 'bidi_trans.neural_renderer.blocks.1.residual_block.bn1.weight', 'bidi_trans.neural_renderer.blocks.1.residual_block.bn1.bias', 'bidi_trans.neural_renderer.blocks.1.residual_block.bn1.running_mean', 'bidi_trans.neural_renderer.blocks.1.residual_block.bn1.running_var', 'bidi_trans.neural_renderer.blocks.1.residual_block.bn1.num_batches_tracked', 'bidi_trans.neural_renderer.blocks.1.residual_block.conv2.weight', 'bidi_trans.neural_renderer.blocks.1.residual_block.bn2.weight', 'bidi_trans.neural_renderer.blocks.1.residual_block.bn2.bias', 'bidi_trans.neural_renderer.blocks.1.residual_block.bn2.running_mean', 'bidi_trans.neural_renderer.blocks.1.residual_block.bn2.running_var', 'bidi_trans.neural_renderer.blocks.1.residual_block.bn2.num_batches_tracked', 'bidi_trans.neural_renderer.blocks.1.residual_block.surplus_conv.weight', 'bidi_trans.neural_renderer.blocks.2.residual_block.conv1.weight', 'bidi_trans.neural_renderer.blocks.2.residual_block.bn1.weight', 'bidi_trans.neural_renderer.blocks.2.residual_block.bn1.bias', 'bidi_trans.neural_renderer.blocks.2.residual_block.bn1.running_mean', 'bidi_trans.neural_renderer.blocks.2.residual_block.bn1.running_var', 'bidi_trans.neural_renderer.blocks.2.residual_block.bn1.num_batches_tracked', 'bidi_trans.neural_renderer.blocks.2.residual_block.conv2.weight', 'bidi_trans.neural_renderer.blocks.2.residual_block.bn2.weight', 'bidi_trans.neural_renderer.blocks.2.residual_block.bn2.bias', 'bidi_trans.neural_renderer.blocks.2.residual_block.bn2.running_mean', 'bidi_trans.neural_renderer.blocks.2.residual_block.bn2.running_var', 'bidi_trans.neural_renderer.blocks.2.residual_block.bn2.num_batches_tracked', 'bidi_trans.neural_renderer.blocks.2.residual_block.surplus_conv.weight', 'bidi_trans.sconv1.weight', 'bidi_trans.sconv1.bias', 'bidi_trans.sconv2.weight', 'bidi_trans.sconv2.bias', 'bidi_trans.sconv3.weight', 'bidi_trans.sconv3.bias'])"
      ]
     },
     "execution_count": 22,
     "metadata": {},
     "output_type": "execute_result"
    }
   ],
   "source": []
  },
  {
   "cell_type": "code",
   "execution_count": null,
   "metadata": {},
   "outputs": [],
   "source": []
  }
 ],
 "metadata": {
  "kernelspec": {
   "display_name": "base",
   "language": "python",
   "name": "python3"
  },
  "language_info": {
   "codemirror_mode": {
    "name": "ipython",
    "version": 3
   },
   "file_extension": ".py",
   "mimetype": "text/x-python",
   "name": "python",
   "nbconvert_exporter": "python",
   "pygments_lexer": "ipython3",
   "version": "3.10.4"
  },
  "orig_nbformat": 4
 },
 "nbformat": 4,
 "nbformat_minor": 2
}
